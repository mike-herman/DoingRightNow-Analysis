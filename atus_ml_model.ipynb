{
 "cells": [
  {
   "cell_type": "code",
   "execution_count": 1,
   "metadata": {},
   "outputs": [
    {
     "name": "stderr",
     "output_type": "stream",
     "text": [
      "\u001b[32m\u001b[1m  Activating\u001b[22m\u001b[39m project at `~/Repos/DoingRightNow-Analysis`\n"
     ]
    }
   ],
   "source": [
    "using Pkg;\n",
    "Pkg.activate(\".\");\n",
    "Pkg.instantiate();"
   ]
  },
  {
   "cell_type": "code",
   "execution_count": 1,
   "metadata": {},
   "outputs": [],
   "source": [
    "using DataFrames, Arrow, CategoricalArrays, ScientificTypes, MLJ"
   ]
  },
  {
   "cell_type": "code",
   "execution_count": 2,
   "metadata": {},
   "outputs": [
    {
     "data": {
      "text/html": [
       "<div><div style = \"float: left;\"><span>2617056×16 DataFrame</span></div><div style = \"float: right;\"><span style = \"font-style: italic;\">2617031 rows omitted</span></div><div style = \"clear: both;\"></div></div><div class = \"data-frame\" style = \"overflow-x: scroll;\"><table class = \"data-frame\" style = \"margin-bottom: 6px;\"><thead><tr class = \"header\"><th class = \"rowNumber\" style = \"font-weight: bold; text-align: right;\">Row</th><th style = \"text-align: left;\">TUCASEID</th><th style = \"text-align: left;\">TUACTIVITY_N</th><th style = \"text-align: left;\">TUSTARTTIM</th><th style = \"text-align: left;\">TUSTOPTIME</th><th style = \"text-align: left;\">start_time_int</th><th style = \"text-align: left;\">stop_time_int</th><th style = \"text-align: left;\">TRTIER2</th><th style = \"text-align: left;\">snap_time_int</th><th style = \"text-align: left;\">TULINENO</th><th style = \"text-align: left;\">GESTFIPS_label</th><th style = \"text-align: left;\">HEFAMINC_label</th><th style = \"text-align: left;\">PEMARITL_label</th><th style = \"text-align: left;\">HETENURE_label</th><th style = \"text-align: left;\">PRTAGE</th><th style = \"text-align: left;\">TUDIARYDAY</th><th style = \"text-align: left;\">TUDIARYDAY_label</th></tr><tr class = \"subheader headerLastRow\"><th class = \"rowNumber\" style = \"font-weight: bold; text-align: right;\"></th><th title = \"Int64\" style = \"text-align: left;\">Int64</th><th title = \"Int64\" style = \"text-align: left;\">Int64</th><th title = \"Dates.Time\" style = \"text-align: left;\">Time</th><th title = \"Dates.Time\" style = \"text-align: left;\">Time</th><th title = \"Int64\" style = \"text-align: left;\">Int64</th><th title = \"Int64\" style = \"text-align: left;\">Int64</th><th title = \"Int64\" style = \"text-align: left;\">Int64</th><th title = \"Int64\" style = \"text-align: left;\">Int64</th><th title = \"Union{Missing, Int64}\" style = \"text-align: left;\">Int64?</th><th title = \"Union{Missing, String}\" style = \"text-align: left;\">String?</th><th title = \"Union{Missing, String}\" style = \"text-align: left;\">String?</th><th title = \"Union{Missing, String}\" style = \"text-align: left;\">String?</th><th title = \"String\" style = \"text-align: left;\">String</th><th title = \"Union{Missing, Int64}\" style = \"text-align: left;\">Int64?</th><th title = \"Union{Missing, Int64}\" style = \"text-align: left;\">Int64?</th><th title = \"Union{Missing, String}\" style = \"text-align: left;\">String?</th></tr></thead><tbody><tr><td class = \"rowNumber\" style = \"font-weight: bold; text-align: right;\">1</td><td style = \"text-align: right;\">20210101210037</td><td style = \"text-align: right;\">1</td><td style = \"text-align: left;\">04:00:00</td><td style = \"text-align: left;\">06:00:00</td><td style = \"text-align: right;\">0</td><td style = \"text-align: right;\">120</td><td style = \"text-align: right;\">101</td><td style = \"text-align: right;\">0</td><td style = \"text-align: right;\">1</td><td style = \"text-align: left;\">CO</td><td style = \"text-align: left;\">100,000 to 149,999</td><td style = \"text-align: left;\">Not Married</td><td style = \"text-align: left;\">Own</td><td style = \"text-align: right;\">60</td><td style = \"text-align: right;\">5</td><td style = \"text-align: left;\">Thursday</td></tr><tr><td class = \"rowNumber\" style = \"font-weight: bold; text-align: right;\">2</td><td style = \"text-align: right;\">20210101210081</td><td style = \"text-align: right;\">1</td><td style = \"text-align: left;\">04:00:00</td><td style = \"text-align: left;\">09:00:00</td><td style = \"text-align: right;\">0</td><td style = \"text-align: right;\">300</td><td style = \"text-align: right;\">101</td><td style = \"text-align: right;\">0</td><td style = \"text-align: right;\">1</td><td style = \"text-align: left;\">IL</td><td style = \"text-align: left;\">35,000 to 39,999</td><td style = \"text-align: left;\">Not Married</td><td style = \"text-align: left;\">Own</td><td style = \"text-align: right;\">30</td><td style = \"text-align: right;\">7</td><td style = \"text-align: left;\">Saturday</td></tr><tr><td class = \"rowNumber\" style = \"font-weight: bold; text-align: right;\">3</td><td style = \"text-align: right;\">20210101210099</td><td style = \"text-align: right;\">1</td><td style = \"text-align: left;\">04:00:00</td><td style = \"text-align: left;\">06:00:00</td><td style = \"text-align: right;\">0</td><td style = \"text-align: right;\">120</td><td style = \"text-align: right;\">101</td><td style = \"text-align: right;\">0</td><td style = \"text-align: right;\">1</td><td style = \"text-align: left;\">AZ</td><td style = \"text-align: left;\">100,000 to 149,999</td><td style = \"text-align: left;\">Married</td><td style = \"text-align: left;\">Own</td><td style = \"text-align: right;\">43</td><td style = \"text-align: right;\">5</td><td style = \"text-align: left;\">Thursday</td></tr><tr><td class = \"rowNumber\" style = \"font-weight: bold; text-align: right;\">4</td><td style = \"text-align: right;\">20210101210101</td><td style = \"text-align: right;\">1</td><td style = \"text-align: left;\">04:00:00</td><td style = \"text-align: left;\">10:00:00</td><td style = \"text-align: right;\">0</td><td style = \"text-align: right;\">360</td><td style = \"text-align: right;\">101</td><td style = \"text-align: right;\">0</td><td style = \"text-align: right;\">1</td><td style = \"text-align: left;\">OH</td><td style = \"text-align: left;\">35,000 to 39,999</td><td style = \"text-align: left;\">Not Married</td><td style = \"text-align: left;\">Rent</td><td style = \"text-align: right;\">23</td><td style = \"text-align: right;\">6</td><td style = \"text-align: left;\">Friday</td></tr><tr><td class = \"rowNumber\" style = \"font-weight: bold; text-align: right;\">5</td><td style = \"text-align: right;\">20210101210109</td><td style = \"text-align: right;\">1</td><td style = \"text-align: left;\">04:00:00</td><td style = \"text-align: left;\">11:00:00</td><td style = \"text-align: right;\">0</td><td style = \"text-align: right;\">420</td><td style = \"text-align: right;\">101</td><td style = \"text-align: right;\">0</td><td style = \"text-align: right;\">1</td><td style = \"text-align: left;\">GA</td><td style = \"text-align: left;\">12,500 to 14,999</td><td style = \"text-align: left;\">Not Married</td><td style = \"text-align: left;\">Rent</td><td style = \"text-align: right;\">20</td><td style = \"text-align: right;\">7</td><td style = \"text-align: left;\">Saturday</td></tr><tr><td class = \"rowNumber\" style = \"font-weight: bold; text-align: right;\">6</td><td style = \"text-align: right;\">20210101210115</td><td style = \"text-align: right;\">1</td><td style = \"text-align: left;\">04:00:00</td><td style = \"text-align: left;\">12:00:00</td><td style = \"text-align: right;\">0</td><td style = \"text-align: right;\">480</td><td style = \"text-align: right;\">101</td><td style = \"text-align: right;\">0</td><td style = \"text-align: right;\">1</td><td style = \"text-align: left;\">FL</td><td style = \"text-align: left;\">10,000 to 12,499</td><td style = \"text-align: left;\">Not Married</td><td style = \"text-align: left;\">Rent</td><td style = \"text-align: right;\">15</td><td style = \"text-align: right;\">1</td><td style = \"text-align: left;\">Sunday</td></tr><tr><td class = \"rowNumber\" style = \"font-weight: bold; text-align: right;\">7</td><td style = \"text-align: right;\">20210101210131</td><td style = \"text-align: right;\">1</td><td style = \"text-align: left;\">04:00:00</td><td style = \"text-align: left;\">07:30:00</td><td style = \"text-align: right;\">0</td><td style = \"text-align: right;\">210</td><td style = \"text-align: right;\">101</td><td style = \"text-align: right;\">0</td><td style = \"text-align: right;\">1</td><td style = \"text-align: left;\">OH</td><td style = \"text-align: left;\">50,000 to 59,999</td><td style = \"text-align: left;\">Not Married</td><td style = \"text-align: left;\">Own</td><td style = \"text-align: right;\">24</td><td style = \"text-align: right;\">1</td><td style = \"text-align: left;\">Sunday</td></tr><tr><td class = \"rowNumber\" style = \"font-weight: bold; text-align: right;\">8</td><td style = \"text-align: right;\">20210101210139</td><td style = \"text-align: right;\">1</td><td style = \"text-align: left;\">04:00:00</td><td style = \"text-align: left;\">09:00:00</td><td style = \"text-align: right;\">0</td><td style = \"text-align: right;\">300</td><td style = \"text-align: right;\">101</td><td style = \"text-align: right;\">0</td><td style = \"text-align: right;\">1</td><td style = \"text-align: left;\">IA</td><td style = \"text-align: left;\">100,000 to 149,999</td><td style = \"text-align: left;\">Not Married</td><td style = \"text-align: left;\">Own</td><td style = \"text-align: right;\">16</td><td style = \"text-align: right;\">1</td><td style = \"text-align: left;\">Sunday</td></tr><tr><td class = \"rowNumber\" style = \"font-weight: bold; text-align: right;\">9</td><td style = \"text-align: right;\">20210101210155</td><td style = \"text-align: right;\">1</td><td style = \"text-align: left;\">04:00:00</td><td style = \"text-align: left;\">12:00:00</td><td style = \"text-align: right;\">0</td><td style = \"text-align: right;\">480</td><td style = \"text-align: right;\">101</td><td style = \"text-align: right;\">0</td><td style = \"text-align: right;\">1</td><td style = \"text-align: left;\">TX</td><td style = \"text-align: left;\">35,000 to 39,999</td><td style = \"text-align: left;\">Not Married</td><td style = \"text-align: left;\">Own</td><td style = \"text-align: right;\">15</td><td style = \"text-align: right;\">1</td><td style = \"text-align: left;\">Sunday</td></tr><tr><td class = \"rowNumber\" style = \"font-weight: bold; text-align: right;\">10</td><td style = \"text-align: right;\">20210101210175</td><td style = \"text-align: right;\">1</td><td style = \"text-align: left;\">04:00:00</td><td style = \"text-align: left;\">09:00:00</td><td style = \"text-align: right;\">0</td><td style = \"text-align: right;\">300</td><td style = \"text-align: right;\">101</td><td style = \"text-align: right;\">0</td><td style = \"text-align: right;\">1</td><td style = \"text-align: left;\">CA</td><td style = \"text-align: left;\">75,000 to 99,999</td><td style = \"text-align: left;\">Not Married</td><td style = \"text-align: left;\">Own</td><td style = \"text-align: right;\">16</td><td style = \"text-align: right;\">4</td><td style = \"text-align: left;\">Wednesday</td></tr><tr><td class = \"rowNumber\" style = \"font-weight: bold; text-align: right;\">11</td><td style = \"text-align: right;\">20210101210180</td><td style = \"text-align: right;\">1</td><td style = \"text-align: left;\">04:00:00</td><td style = \"text-align: left;\">06:30:00</td><td style = \"text-align: right;\">0</td><td style = \"text-align: right;\">150</td><td style = \"text-align: right;\">101</td><td style = \"text-align: right;\">0</td><td style = \"text-align: right;\">1</td><td style = \"text-align: left;\">CA</td><td style = \"text-align: left;\">30,000 to 34,999</td><td style = \"text-align: left;\">Not Married</td><td style = \"text-align: left;\">Rent</td><td style = \"text-align: right;\">23</td><td style = \"text-align: right;\">5</td><td style = \"text-align: left;\">Thursday</td></tr><tr><td class = \"rowNumber\" style = \"font-weight: bold; text-align: right;\">12</td><td style = \"text-align: right;\">20210101210201</td><td style = \"text-align: right;\">1</td><td style = \"text-align: left;\">04:00:00</td><td style = \"text-align: left;\">08:30:00</td><td style = \"text-align: right;\">0</td><td style = \"text-align: right;\">270</td><td style = \"text-align: right;\">101</td><td style = \"text-align: right;\">0</td><td style = \"text-align: right;\">1</td><td style = \"text-align: left;\">PA</td><td style = \"text-align: left;\">100,000 to 149,999</td><td style = \"text-align: left;\">Not Married</td><td style = \"text-align: left;\">Own</td><td style = \"text-align: right;\">23</td><td style = \"text-align: right;\">5</td><td style = \"text-align: left;\">Thursday</td></tr><tr><td class = \"rowNumber\" style = \"font-weight: bold; text-align: right;\">13</td><td style = \"text-align: right;\">20210101210223</td><td style = \"text-align: right;\">1</td><td style = \"text-align: left;\">04:00:00</td><td style = \"text-align: left;\">09:00:00</td><td style = \"text-align: right;\">0</td><td style = \"text-align: right;\">300</td><td style = \"text-align: right;\">101</td><td style = \"text-align: right;\">0</td><td style = \"text-align: right;\">1</td><td style = \"text-align: left;\">MA</td><td style = \"text-align: left;\">150,000 and over</td><td style = \"text-align: left;\">Not Married</td><td style = \"text-align: left;\">Own</td><td style = \"text-align: right;\">15</td><td style = \"text-align: right;\">1</td><td style = \"text-align: left;\">Sunday</td></tr><tr><td style = \"text-align: right;\">&vellip;</td><td style = \"text-align: right;\">&vellip;</td><td style = \"text-align: right;\">&vellip;</td><td style = \"text-align: right;\">&vellip;</td><td style = \"text-align: right;\">&vellip;</td><td style = \"text-align: right;\">&vellip;</td><td style = \"text-align: right;\">&vellip;</td><td style = \"text-align: right;\">&vellip;</td><td style = \"text-align: right;\">&vellip;</td><td style = \"text-align: right;\">&vellip;</td><td style = \"text-align: right;\">&vellip;</td><td style = \"text-align: right;\">&vellip;</td><td style = \"text-align: right;\">&vellip;</td><td style = \"text-align: right;\">&vellip;</td><td style = \"text-align: right;\">&vellip;</td><td style = \"text-align: right;\">&vellip;</td><td style = \"text-align: right;\">&vellip;</td></tr><tr><td class = \"rowNumber\" style = \"font-weight: bold; text-align: right;\">2617045</td><td style = \"text-align: right;\">20211212212037</td><td style = \"text-align: right;\">24</td><td style = \"text-align: left;\">21:00:00</td><td style = \"text-align: left;\">05:00:00</td><td style = \"text-align: right;\">1020</td><td style = \"text-align: right;\">1440</td><td style = \"text-align: right;\">101</td><td style = \"text-align: right;\">1435</td><td style = \"text-align: right;\">1</td><td style = \"text-align: left;\">OH</td><td style = \"text-align: left;\">60,000 to 74,999</td><td style = \"text-align: left;\">Married</td><td style = \"text-align: left;\">Own</td><td style = \"text-align: right;\">33</td><td style = \"text-align: right;\">4</td><td style = \"text-align: left;\">Wednesday</td></tr><tr><td class = \"rowNumber\" style = \"font-weight: bold; text-align: right;\">2617046</td><td style = \"text-align: right;\">20211212212069</td><td style = \"text-align: right;\">44</td><td style = \"text-align: left;\">03:20:00</td><td style = \"text-align: left;\">04:20:00</td><td style = \"text-align: right;\">1400</td><td style = \"text-align: right;\">1440</td><td style = \"text-align: right;\">1203</td><td style = \"text-align: right;\">1435</td><td style = \"text-align: right;\">1</td><td style = \"text-align: left;\">VT</td><td style = \"text-align: left;\">15,000 to 19,999</td><td style = \"text-align: left;\">Not Married</td><td style = \"text-align: left;\">Rent</td><td style = \"text-align: right;\">67</td><td style = \"text-align: right;\">4</td><td style = \"text-align: left;\">Wednesday</td></tr><tr><td class = \"rowNumber\" style = \"font-weight: bold; text-align: right;\">2617047</td><td style = \"text-align: right;\">20211212212101</td><td style = \"text-align: right;\">18</td><td style = \"text-align: left;\">02:30:00</td><td style = \"text-align: left;\">09:00:00</td><td style = \"text-align: right;\">1350</td><td style = \"text-align: right;\">1440</td><td style = \"text-align: right;\">101</td><td style = \"text-align: right;\">1435</td><td style = \"text-align: right;\">1</td><td style = \"text-align: left;\">IL</td><td style = \"text-align: left;\">10,000 to 12,499</td><td style = \"text-align: left;\">Not Married</td><td style = \"text-align: left;\">Own</td><td style = \"text-align: right;\">60</td><td style = \"text-align: right;\">3</td><td style = \"text-align: left;\">Tuesday</td></tr><tr><td class = \"rowNumber\" style = \"font-weight: bold; text-align: right;\">2617048</td><td style = \"text-align: right;\">20211212212120</td><td style = \"text-align: right;\">15</td><td style = \"text-align: left;\">21:30:00</td><td style = \"text-align: left;\">07:00:00</td><td style = \"text-align: right;\">1050</td><td style = \"text-align: right;\">1440</td><td style = \"text-align: right;\">101</td><td style = \"text-align: right;\">1435</td><td style = \"text-align: right;\">1</td><td style = \"text-align: left;\">IL</td><td style = \"text-align: left;\">60,000 to 74,999</td><td style = \"text-align: left;\">Not Married</td><td style = \"text-align: left;\">Own</td><td style = \"text-align: right;\">78</td><td style = \"text-align: right;\">1</td><td style = \"text-align: left;\">Sunday</td></tr><tr><td class = \"rowNumber\" style = \"font-weight: bold; text-align: right;\">2617049</td><td style = \"text-align: right;\">20211212212183</td><td style = \"text-align: right;\">14</td><td style = \"text-align: left;\">21:55:00</td><td style = \"text-align: left;\">08:00:00</td><td style = \"text-align: right;\">1075</td><td style = \"text-align: right;\">1440</td><td style = \"text-align: right;\">101</td><td style = \"text-align: right;\">1435</td><td style = \"text-align: right;\">1</td><td style = \"text-align: left;\">NY</td><td style = \"text-align: left;\">75,000 to 99,999</td><td style = \"text-align: left;\">Married</td><td style = \"text-align: left;\">Own</td><td style = \"text-align: right;\">35</td><td style = \"text-align: right;\">2</td><td style = \"text-align: left;\">Monday</td></tr><tr><td class = \"rowNumber\" style = \"font-weight: bold; text-align: right;\">2617050</td><td style = \"text-align: right;\">20211212212328</td><td style = \"text-align: right;\">19</td><td style = \"text-align: left;\">23:00:00</td><td style = \"text-align: left;\">07:00:00</td><td style = \"text-align: right;\">1140</td><td style = \"text-align: right;\">1440</td><td style = \"text-align: right;\">101</td><td style = \"text-align: right;\">1435</td><td style = \"text-align: right;\">1</td><td style = \"text-align: left;\">WA</td><td style = \"text-align: left;\">100,000 to 149,999</td><td style = \"text-align: left;\">Married</td><td style = \"text-align: left;\">Own</td><td style = \"text-align: right;\">71</td><td style = \"text-align: right;\">4</td><td style = \"text-align: left;\">Wednesday</td></tr><tr><td class = \"rowNumber\" style = \"font-weight: bold; text-align: right;\">2617051</td><td style = \"text-align: right;\">20211212212471</td><td style = \"text-align: right;\">14</td><td style = \"text-align: left;\">21:30:00</td><td style = \"text-align: left;\">06:30:00</td><td style = \"text-align: right;\">1050</td><td style = \"text-align: right;\">1440</td><td style = \"text-align: right;\">101</td><td style = \"text-align: right;\">1435</td><td style = \"text-align: right;\">1</td><td style = \"text-align: left;\">CO</td><td style = \"text-align: left;\">150,000 and over</td><td style = \"text-align: left;\">Not Married</td><td style = \"text-align: left;\">Rent</td><td style = \"text-align: right;\">80</td><td style = \"text-align: right;\">1</td><td style = \"text-align: left;\">Sunday</td></tr><tr><td class = \"rowNumber\" style = \"font-weight: bold; text-align: right;\">2617052</td><td style = \"text-align: right;\">20211212212479</td><td style = \"text-align: right;\">13</td><td style = \"text-align: left;\">21:30:00</td><td style = \"text-align: left;\">07:30:00</td><td style = \"text-align: right;\">1050</td><td style = \"text-align: right;\">1440</td><td style = \"text-align: right;\">101</td><td style = \"text-align: right;\">1435</td><td style = \"text-align: right;\">1</td><td style = \"text-align: left;\">GA</td><td style = \"text-align: left;\">150,000 and over</td><td style = \"text-align: left;\">Married</td><td style = \"text-align: left;\">Own</td><td style = \"text-align: right;\">56</td><td style = \"text-align: right;\">2</td><td style = \"text-align: left;\">Monday</td></tr><tr><td class = \"rowNumber\" style = \"font-weight: bold; text-align: right;\">2617053</td><td style = \"text-align: right;\">20211212212502</td><td style = \"text-align: right;\">13</td><td style = \"text-align: left;\">22:01:00</td><td style = \"text-align: left;\">08:01:00</td><td style = \"text-align: right;\">1081</td><td style = \"text-align: right;\">1440</td><td style = \"text-align: right;\">101</td><td style = \"text-align: right;\">1435</td><td style = \"text-align: right;\">1</td><td style = \"text-align: left;\">PA</td><td style = \"text-align: left;\">100,000 to 149,999</td><td style = \"text-align: left;\">Married</td><td style = \"text-align: left;\">Own</td><td style = \"text-align: right;\">69</td><td style = \"text-align: right;\">2</td><td style = \"text-align: left;\">Monday</td></tr><tr><td class = \"rowNumber\" style = \"font-weight: bold; text-align: right;\">2617054</td><td style = \"text-align: right;\">20211212212555</td><td style = \"text-align: right;\">13</td><td style = \"text-align: left;\">22:00:00</td><td style = \"text-align: left;\">09:30:00</td><td style = \"text-align: right;\">1080</td><td style = \"text-align: right;\">1440</td><td style = \"text-align: right;\">101</td><td style = \"text-align: right;\">1435</td><td style = \"text-align: right;\">1</td><td style = \"text-align: left;\">IL</td><td style = \"text-align: left;\">75,000 to 99,999</td><td style = \"text-align: left;\">Married</td><td style = \"text-align: left;\">Own</td><td style = \"text-align: right;\">57</td><td style = \"text-align: right;\">1</td><td style = \"text-align: left;\">Sunday</td></tr><tr><td class = \"rowNumber\" style = \"font-weight: bold; text-align: right;\">2617055</td><td style = \"text-align: right;\">20211212212567</td><td style = \"text-align: right;\">18</td><td style = \"text-align: left;\">23:00:00</td><td style = \"text-align: left;\">07:30:00</td><td style = \"text-align: right;\">1140</td><td style = \"text-align: right;\">1440</td><td style = \"text-align: right;\">101</td><td style = \"text-align: right;\">1435</td><td style = \"text-align: right;\">1</td><td style = \"text-align: left;\">VT</td><td style = \"text-align: left;\">60,000 to 74,999</td><td style = \"text-align: left;\">Married</td><td style = \"text-align: left;\">Own</td><td style = \"text-align: right;\">34</td><td style = \"text-align: right;\">4</td><td style = \"text-align: left;\">Wednesday</td></tr><tr><td class = \"rowNumber\" style = \"font-weight: bold; text-align: right;\">2617056</td><td style = \"text-align: right;\">20211212212591</td><td style = \"text-align: right;\">13</td><td style = \"text-align: left;\">20:20:00</td><td style = \"text-align: left;\">06:20:00</td><td style = \"text-align: right;\">980</td><td style = \"text-align: right;\">1440</td><td style = \"text-align: right;\">101</td><td style = \"text-align: right;\">1435</td><td style = \"text-align: right;\">1</td><td style = \"text-align: left;\">SC</td><td style = \"text-align: left;\">75,000 to 99,999</td><td style = \"text-align: left;\">Not Married</td><td style = \"text-align: left;\">Rent</td><td style = \"text-align: right;\">45</td><td style = \"text-align: right;\">4</td><td style = \"text-align: left;\">Wednesday</td></tr></tbody></table></div>"
      ],
      "text/latex": [
       "\\begin{tabular}{r|ccccccc}\n",
       "\t& TUCASEID & TUACTIVITY\\_N & TUSTARTTIM & TUSTOPTIME & start\\_time\\_int & stop\\_time\\_int & \\\\\n",
       "\t\\hline\n",
       "\t& Int64 & Int64 & Time & Time & Int64 & Int64 & \\\\\n",
       "\t\\hline\n",
       "\t1 & 20210101210037 & 1 & 04:00:00 & 06:00:00 & 0 & 120 & $\\dots$ \\\\\n",
       "\t2 & 20210101210081 & 1 & 04:00:00 & 09:00:00 & 0 & 300 & $\\dots$ \\\\\n",
       "\t3 & 20210101210099 & 1 & 04:00:00 & 06:00:00 & 0 & 120 & $\\dots$ \\\\\n",
       "\t4 & 20210101210101 & 1 & 04:00:00 & 10:00:00 & 0 & 360 & $\\dots$ \\\\\n",
       "\t5 & 20210101210109 & 1 & 04:00:00 & 11:00:00 & 0 & 420 & $\\dots$ \\\\\n",
       "\t6 & 20210101210115 & 1 & 04:00:00 & 12:00:00 & 0 & 480 & $\\dots$ \\\\\n",
       "\t7 & 20210101210131 & 1 & 04:00:00 & 07:30:00 & 0 & 210 & $\\dots$ \\\\\n",
       "\t8 & 20210101210139 & 1 & 04:00:00 & 09:00:00 & 0 & 300 & $\\dots$ \\\\\n",
       "\t9 & 20210101210155 & 1 & 04:00:00 & 12:00:00 & 0 & 480 & $\\dots$ \\\\\n",
       "\t10 & 20210101210175 & 1 & 04:00:00 & 09:00:00 & 0 & 300 & $\\dots$ \\\\\n",
       "\t11 & 20210101210180 & 1 & 04:00:00 & 06:30:00 & 0 & 150 & $\\dots$ \\\\\n",
       "\t12 & 20210101210201 & 1 & 04:00:00 & 08:30:00 & 0 & 270 & $\\dots$ \\\\\n",
       "\t13 & 20210101210223 & 1 & 04:00:00 & 09:00:00 & 0 & 300 & $\\dots$ \\\\\n",
       "\t14 & 20210101210240 & 1 & 04:00:00 & 07:00:00 & 0 & 180 & $\\dots$ \\\\\n",
       "\t15 & 20210101210247 & 1 & 04:00:00 & 08:00:00 & 0 & 240 & $\\dots$ \\\\\n",
       "\t16 & 20210101210269 & 1 & 04:00:00 & 07:15:00 & 0 & 195 & $\\dots$ \\\\\n",
       "\t17 & 20210101210275 & 1 & 04:00:00 & 05:30:00 & 0 & 90 & $\\dots$ \\\\\n",
       "\t18 & 20210101210276 & 1 & 04:00:00 & 05:45:00 & 0 & 105 & $\\dots$ \\\\\n",
       "\t19 & 20210101210285 & 1 & 04:00:00 & 08:00:00 & 0 & 240 & $\\dots$ \\\\\n",
       "\t20 & 20210101210292 & 1 & 04:00:00 & 11:00:00 & 0 & 420 & $\\dots$ \\\\\n",
       "\t21 & 20210101210295 & 1 & 04:00:00 & 11:00:00 & 0 & 420 & $\\dots$ \\\\\n",
       "\t22 & 20210101210322 & 1 & 04:00:00 & 06:00:00 & 0 & 120 & $\\dots$ \\\\\n",
       "\t23 & 20210101210339 & 1 & 04:00:00 & 07:30:00 & 0 & 210 & $\\dots$ \\\\\n",
       "\t24 & 20210101210340 & 1 & 04:00:00 & 08:40:00 & 0 & 280 & $\\dots$ \\\\\n",
       "\t$\\dots$ & $\\dots$ & $\\dots$ & $\\dots$ & $\\dots$ & $\\dots$ & $\\dots$ &  \\\\\n",
       "\\end{tabular}\n"
      ],
      "text/plain": [
       "\u001b[1m2617056×16 DataFrame\u001b[0m\n",
       "\u001b[1m     Row \u001b[0m│\u001b[1m TUCASEID       \u001b[0m\u001b[1m TUACTIVITY_N \u001b[0m\u001b[1m TUSTARTTIM \u001b[0m\u001b[1m TUSTOPTIME \u001b[0m\u001b[1m start_time_in\u001b[0m ⋯\n",
       "         │\u001b[90m Int64          \u001b[0m\u001b[90m Int64        \u001b[0m\u001b[90m Dates.Time \u001b[0m\u001b[90m Dates.Time \u001b[0m\u001b[90m Int64        \u001b[0m ⋯\n",
       "─────────┼──────────────────────────────────────────────────────────────────────\n",
       "       1 │ 20210101210037             1  04:00:00    06:00:00                  ⋯\n",
       "       2 │ 20210101210081             1  04:00:00    09:00:00\n",
       "       3 │ 20210101210099             1  04:00:00    06:00:00\n",
       "       4 │ 20210101210101             1  04:00:00    10:00:00\n",
       "       5 │ 20210101210109             1  04:00:00    11:00:00                  ⋯\n",
       "       6 │ 20210101210115             1  04:00:00    12:00:00\n",
       "       7 │ 20210101210131             1  04:00:00    07:30:00\n",
       "       8 │ 20210101210139             1  04:00:00    09:00:00\n",
       "    ⋮    │       ⋮              ⋮            ⋮           ⋮             ⋮       ⋱\n",
       " 2617050 │ 20211212212328            19  23:00:00    07:00:00              114 ⋯\n",
       " 2617051 │ 20211212212471            14  21:30:00    06:30:00              105\n",
       " 2617052 │ 20211212212479            13  21:30:00    07:30:00              105\n",
       " 2617053 │ 20211212212502            13  22:01:00    08:01:00              108\n",
       " 2617054 │ 20211212212555            13  22:00:00    09:30:00              108 ⋯\n",
       " 2617055 │ 20211212212567            18  23:00:00    07:30:00              114\n",
       " 2617056 │ 20211212212591            13  20:20:00    06:20:00               98\n",
       "\u001b[36m                                             12 columns and 2617041 rows omitted\u001b[0m"
      ]
     },
     "metadata": {},
     "output_type": "display_data"
    }
   ],
   "source": [
    "DATA_FILE_PATH = \"./data/model_data.arrow\";\n",
    "df = DataFrame(Arrow.Table(DATA_FILE_PATH));\n",
    "df = copy(df)"
   ]
  },
  {
   "cell_type": "code",
   "execution_count": 3,
   "metadata": {},
   "outputs": [],
   "source": [
    "\n",
    "function clean_data!(df)\n",
    "    \n",
    "    # Fix machine types.\n",
    "    HEFAMINC_ordered_set = [\n",
    "        \"Less than 5,000\",\n",
    "        \"5,000 to 7,499\",\n",
    "        \"7,500 to 9,999\",\n",
    "        \"10,000 to 12,499\",\n",
    "        \"12,500 to 14,999\",\n",
    "        \"15,000 to 19,999\",\n",
    "        \"20,000 to 24,999\",\n",
    "        \"25,000 to 29,999\",\n",
    "        \"30,000 to 34,999\",\n",
    "        \"35,000 to 39,999\",\n",
    "        \"40,000 to 49,999\",\n",
    "        \"50,000 to 59,999\",\n",
    "        \"60,000 to 74,999\",\n",
    "        \"75,000 to 99,999\",\n",
    "        \"100,000 to 149,999\",\n",
    "        \"150,000 and over\"\n",
    "    ]\n",
    "\n",
    "    df.TRTIER2 = categorical(df.TRTIER2)\n",
    "    df.GESTFIPS_label = categorical(df.GESTFIPS_label)\n",
    "    df.HEFAMINC_label = categorical(df.HEFAMINC_label; levels=HEFAMINC_ordered_set, ordered=true)\n",
    "    df.PEMARITL_label = categorical(df.PEMARITL_label)\n",
    "    df.HETENURE_label = categorical(df.HETENURE_label)\n",
    "    df.TUDIARYDAY_label = categorical(df.TUDIARYDAY_label)\n",
    "\n",
    "    # drop columns and disallow missing.\n",
    "    drop_cols = [\n",
    "        :TUCASEID,:TUACTIVITY_N,:TUSTARTTIM,:TUSTOPTIME,\n",
    "        :start_time_int,:stop_time_int,:TULINENO, :TUDIARYDAY\n",
    "        ]\n",
    "    select!(df, Not(drop_cols))\n",
    "    disallowmissing!(df)\n",
    "\n",
    "    # Define scientific types.\n",
    "    coerce!(df, :snap_time_int => Continuous, :PRTAGE => Continuous)\n",
    "end\n",
    "\n",
    "clean_data!(df);"
   ]
  },
  {
   "cell_type": "code",
   "execution_count": 4,
   "metadata": {},
   "outputs": [],
   "source": [
    "y, X = unpack(df, ==(:TRTIER2));"
   ]
  },
  {
   "attachments": {},
   "cell_type": "markdown",
   "metadata": {},
   "source": [
    "## Find the right model to use"
   ]
  },
  {
   "attachments": {},
   "cell_type": "markdown",
   "metadata": {},
   "source": [
    "We'll take a look at what type of models are available to MLJ to predict on our target."
   ]
  },
  {
   "cell_type": "code",
   "execution_count": 5,
   "metadata": {},
   "outputs": [
    {
     "name": "stdout",
     "output_type": "stream",
     "text": [
      "CatBoostClassifier            (CatBoost)\n",
      "ConstantClassifier            (MLJModels)\n",
      "DecisionTreeClassifier        (BetaML)\n",
      "RandomForestClassifier        (BetaML)\n"
     ]
    }
   ],
   "source": [
    "for m in models(matching(X,y))\n",
    "    if m.prediction_type == :probabilistic\n",
    "        println(rpad(m.name, 30), \"($(m.package_name))\")\n",
    "    end\n",
    "end"
   ]
  },
  {
   "attachments": {},
   "cell_type": "markdown",
   "metadata": {},
   "source": [
    "The only models showing are tree-based models. We're prodicting a multi-class category. And this is how it is encoded in the data. Tree-based models will handle this explicitly.\n",
    "\n",
    "But we _should_ be able to use something like a multivariate logistic regression, shouldn't we? Likely, the reason is typing. A regression isn't going to work on non-encoded predictors. According to the documentation, it _should_ properly interpret the multivariate target though."
   ]
  },
  {
   "cell_type": "code",
   "execution_count": 6,
   "metadata": {},
   "outputs": [
    {
     "name": "stderr",
     "output_type": "stream",
     "text": [
      "┌ Info: Training machine(OneHotEncoder(features = Symbol[], …), …).\n",
      "└ @ MLJBase /Users/mph/.julia/packages/MLJBase/g5E7V/src/machines.jl:492\n",
      "┌ Info: Spawning 50 sub-features to one-hot encode feature :GESTFIPS_label.\n",
      "└ @ MLJModels /Users/mph/.julia/packages/MLJModels/UM8fF/src/builtins/Transformers.jl:878\n"
     ]
    },
    {
     "name": "stderr",
     "output_type": "stream",
     "text": [
      "┌ Info: Spawning 15 sub-features to one-hot encode feature :HEFAMINC_label.\n",
      "└ @ MLJModels /Users/mph/.julia/packages/MLJModels/UM8fF/src/builtins/Transformers.jl:878\n",
      "┌ Info: Spawning 1 sub-features to one-hot encode feature :PEMARITL_label.\n",
      "└ @ MLJModels /Users/mph/.julia/packages/MLJModels/UM8fF/src/builtins/Transformers.jl:878\n",
      "┌ Info: Spawning 2 sub-features to one-hot encode feature :HETENURE_label.\n",
      "└ @ MLJModels /Users/mph/.julia/packages/MLJModels/UM8fF/src/builtins/Transformers.jl:878\n",
      "┌ Info: Spawning 6 sub-features to one-hot encode feature :TUDIARYDAY_label.\n",
      "└ @ MLJModels /Users/mph/.julia/packages/MLJModels/UM8fF/src/builtins/Transformers.jl:878\n"
     ]
    },
    {
     "name": "stdout",
     "output_type": "stream",
     "text": [
      "AdaBoostClassifier            (MLJScikitLearnInterface)\n",
      "AdaBoostStumpClassifier       (DecisionTree)\n",
      "BaggingClassifier             (MLJScikitLearnInterface)\n",
      "BayesianLDA                   (MLJScikitLearnInterface)\n",
      "BayesianLDA                   (MultivariateStats)\n",
      "BayesianQDA                   (MLJScikitLearnInterface)\n",
      "BayesianSubspaceLDA           (MultivariateStats)\n",
      "CatBoostClassifier            (CatBoost)\n",
      "ConstantClassifier            (MLJModels)\n",
      "DecisionTreeClassifier        (BetaML)\n",
      "DecisionTreeClassifier        (DecisionTree)\n",
      "DummyClassifier               (MLJScikitLearnInterface)\n",
      "EvoTreeClassifier             (EvoTrees)\n",
      "ExtraTreesClassifier          (MLJScikitLearnInterface)\n",
      "GaussianNBClassifier          (MLJScikitLearnInterface)\n",
      "GaussianNBClassifier          (NaiveBayes)\n",
      "GaussianProcessClassifier     (MLJScikitLearnInterface)\n",
      "GradientBoostingClassifier    (MLJScikitLearnInterface)\n",
      "KNNClassifier                 (NearestNeighborModels)\n",
      "KNeighborsClassifier          (MLJScikitLearnInterface)\n",
      "KernelPerceptron              (BetaML)\n",
      "LDA                           (MultivariateStats)\n",
      "LGBMClassifier                (LightGBM)\n",
      "LinearPerceptron              (BetaML)\n",
      "LogisticCVClassifier          (MLJScikitLearnInterface)\n",
      "LogisticClassifier            (MLJLinearModels)\n",
      "LogisticClassifier            (MLJScikitLearnInterface)\n",
      "MultinomialClassifier         (MLJLinearModels)\n",
      "NeuralNetworkClassifier       (BetaML)\n",
      "NeuralNetworkClassifier       (MLJFlux)\n",
      "Pegasos                       (BetaML)\n",
      "ProbabilisticNuSVC            (LIBSVM)\n",
      "ProbabilisticSGDClassifier    (MLJScikitLearnInterface)\n",
      "ProbabilisticSVC              (LIBSVM)\n",
      "RandomForestClassifier        (BetaML)\n",
      "RandomForestClassifier        (DecisionTree)\n",
      "RandomForestClassifier        (MLJScikitLearnInterface)\n",
      "SubspaceLDA                   (MultivariateStats)\n",
      "XGBoostClassifier             (XGBoost)\n"
     ]
    }
   ],
   "source": [
    "# One Hot Encode X into a new object called X2.\n",
    "ohe = OneHotEncoder(drop_last=true)\n",
    "mach = fit!(machine(ohe, X))\n",
    "X2 = MLJ.transform(mach, X)\n",
    "\n",
    "# Search for the available models.\n",
    "for m in models(matching(X2,y))\n",
    "    if m.prediction_type == :probabilistic\n",
    "        println(rpad(m.name, 30), \"($(m.package_name))\")\n",
    "    end\n",
    "end"
   ]
  },
  {
   "attachments": {},
   "cell_type": "markdown",
   "metadata": {},
   "source": [
    "That's a big variety of models to choose from.\n",
    "\n",
    "We'll start from the smaller list of tree-based models. The random forest is a good one. We can do this two ways -- by using the default `RandomForestClassifier` or by composing our own bagging of a set of `DecisionTreeClassifier` models.\n",
    "\n",
    "The easy, fast thing to do would be to use the default. But I'd like to get some practice in. So I'm going to do the bagging from scratch."
   ]
  },
  {
   "attachments": {},
   "cell_type": "markdown",
   "metadata": {},
   "source": [
    "Before I continue, I'm going to partition the data into testing and training."
   ]
  },
  {
   "cell_type": "code",
   "execution_count": 7,
   "metadata": {},
   "outputs": [
    {
     "data": {
      "text/plain": [
       "([1, 2, 3, 4, 5, 6, 7, 8, 9, 10  …  2093636, 2093637, 2093638, 2093639, 2093640, 2093641, 2093642, 2093643, 2093644, 2093645], [2093646, 2093647, 2093648, 2093649, 2093650, 2093651, 2093652, 2093653, 2093654, 2093655  …  2617047, 2617048, 2617049, 2617050, 2617051, 2617052, 2617053, 2617054, 2617055, 2617056])"
      ]
     },
     "metadata": {},
     "output_type": "display_data"
    }
   ],
   "source": [
    "train, test = partition(eachindex(y), 0.8)"
   ]
  },
  {
   "attachments": {},
   "cell_type": "markdown",
   "metadata": {},
   "source": [
    "## Random Forest Classifier"
   ]
  },
  {
   "attachments": {},
   "cell_type": "markdown",
   "metadata": {},
   "source": [
    "Note, a lot of this is adopted from [this tutorial](https://juliaai.github.io/DataScienceTutorials.jl/getting-started/ensembles-2/)."
   ]
  },
  {
   "attachments": {},
   "cell_type": "markdown",
   "metadata": {},
   "source": [
    "We'll start with a single tree."
   ]
  },
  {
   "attachments": {},
   "cell_type": "markdown",
   "metadata": {},
   "source": [
    "The `DecisionTreeClassifier` from the `BetaML` package works with no encoding or transformation. But it takes a very long time to run. We'll try setting up a pipeline to transform the data ard run the `DecisionTreeClassifier` from the `DecisionTree` package."
   ]
  },
  {
   "cell_type": "code",
   "execution_count": 46,
   "metadata": {},
   "outputs": [
    {
     "name": "stdout",
     "output_type": "stream",
     "text": [
      "import MLJDecisionTreeInterface ✔\n"
     ]
    },
    {
     "name": "stderr",
     "output_type": "stream",
     "text": [
      "┌ Info: For silent loading, specify `verbosity=0`. \n",
      "└ @ Main /Users/mph/.julia/packages/MLJModels/UM8fF/src/loading.jl:159\n"
     ]
    },
    {
     "data": {
      "text/plain": [
       "MLJDecisionTreeInterface.DecisionTreeClassifier"
      ]
     },
     "metadata": {},
     "output_type": "display_data"
    }
   ],
   "source": [
    "# Load models from packages.\n",
    "DecisionTreeClassifier = @load DecisionTreeClassifier pkg=DecisionTree"
   ]
  },
  {
   "attachments": {},
   "cell_type": "markdown",
   "metadata": {},
   "source": [
    "### Step 0 -- Use `EnsembleModel` to roll our own random forest"
   ]
  },
  {
   "cell_type": "code",
   "execution_count": 70,
   "metadata": {},
   "outputs": [
    {
     "data": {
      "text/plain": [
       "ProbabilisticEnsembleModel(\n",
       "  model = DecisionTreeClassifier(\n",
       "        max_depth = -1, \n",
       "        min_samples_leaf = 1, \n",
       "        min_samples_split = 2, \n",
       "        min_purity_increase = 0.0, \n",
       "        n_subfeatures = 0, \n",
       "        post_prune = false, \n",
       "        merge_purity_threshold = 1.0, \n",
       "        display_depth = 5, \n",
       "        feature_importance = :impurity, \n",
       "        rng = Random._GLOBAL_RNG()), \n",
       "  atomic_weights = Float64[], \n",
       "  bagging_fraction = 0.8, \n",
       "  rng = Random._GLOBAL_RNG(), \n",
       "  n = 20, \n",
       "  acceleration = CPU1{Nothing}(nothing), \n",
       "  out_of_bag_measure = Any[])"
      ]
     },
     "metadata": {},
     "output_type": "display_data"
    }
   ],
   "source": []
  },
  {
   "attachments": {},
   "cell_type": "markdown",
   "metadata": {},
   "source": [
    "### Step 1 -- Define a new model struct.\n",
    "\n",
    "Likely this is a probabalistic model. We'll need to confirm this and define a probabalistic network composite model."
   ]
  },
  {
   "cell_type": "code",
   "execution_count": 52,
   "metadata": {},
   "outputs": [
    {
     "data": {
      "text/plain": [
       "Probabilistic"
      ]
     },
     "metadata": {},
     "output_type": "display_data"
    }
   ],
   "source": [
    "supertype(typeof(DecisionTreeClassifier()))    # Should be \"Probabilistic\""
   ]
  },
  {
   "cell_type": "code",
   "execution_count": 59,
   "metadata": {},
   "outputs": [],
   "source": [
    "# Define a new model struct.\n",
    "mutable struct CompositeA <: ProbabilisticNetworkComposite\n",
    "    preprocessor    # This part does the pre-processing.\n",
    "    classifier    # This part does the classifying\n",
    "end"
   ]
  },
  {
   "attachments": {},
   "cell_type": "markdown",
   "metadata": {},
   "source": [
    "### Step 2 -- Create and wrap the learning network in `prefit`"
   ]
  },
  {
   "cell_type": "code",
   "execution_count": 64,
   "metadata": {},
   "outputs": [],
   "source": [
    "# Wrap the above steps into a function called `prefit`\n",
    "import MLJBase    # We need to import in order to overload `MLJBase.prefit`\n",
    "function MLJBase.prefit(composite::CompositeA, verbosity, X, y)\n",
    "    # Define data input nodes. We just want the training set.\n",
    "    Xs = source(X[train,:])\n",
    "    ys = source(y[train])\n",
    "\n",
    "    # First machine -- We substitute the symbols in the struct defined above for the model objects.\n",
    "    mach1 = machine(:preprocessor, Xs)\n",
    "    x = MLJ.transform(mach1, Xs)    # `transform` has duplicated namespace. So we specify `MLJ.transform`\n",
    "    mach2 = machine(:classifier, x, ys)\n",
    "    ŷ = predict(mach2, x)\n",
    "\n",
    "    verbosity > 0 && @info \"I'm a noisy fellow!\"\n",
    "\n",
    "    #return \"learning network interface\":\n",
    "    return (; predict=ŷ)\n",
    "end"
   ]
  },
  {
   "attachments": {},
   "cell_type": "markdown",
   "metadata": {},
   "source": [
    "`prefit` always returns a _learning network interface_. Here, the inteface dictates that calling `predict(mach, Xnew)` on a machine `mach` bound to some instance of `CompositeA` should internally call `y\\hat(Xnew)`.\n",
    "\n",
    "\n",
    "This means we can use the above like any other model."
   ]
  },
  {
   "cell_type": "code",
   "execution_count": 91,
   "metadata": {},
   "outputs": [
    {
     "data": {
      "text/plain": [
       "(name = \"DecisionTreeClassifier\",\n",
       " package_name = \"DecisionTree\",\n",
       " is_supervised = true,\n",
       " abstract_type = Probabilistic,\n",
       " deep_properties = (),\n",
       " docstring = \"```\\nDecisionTreeClassifier\\n```\\n\\nA model type for c...\",\n",
       " fit_data_scitype =\n",
       "     Tuple{Table{<:Union{AbstractVector{<:Continuous}, AbstractVector{<:Count}, AbstractVector{<:OrderedFactor}}}, AbstractVector{<:Finite}},\n",
       " human_name = \"CART decision tree classifier\",\n",
       " hyperparameter_ranges = (nothing,\n",
       "                          nothing,\n",
       "                          nothing,\n",
       "                          nothing,\n",
       "                          nothing,\n",
       "                          nothing,\n",
       "                          nothing,\n",
       "                          nothing,\n",
       "                          nothing,\n",
       "                          nothing),\n",
       " hyperparameter_types = (\"Int64\",\n",
       "                         \"Int64\",\n",
       "                         \"Int64\",\n",
       "                         \"Float64\",\n",
       "                         \"Int64\",\n",
       "                         \"Bool\",\n",
       "                         \"Float64\",\n",
       "                         \"Int64\",\n",
       "                         \"Symbol\",\n",
       "                         \"Union{Integer, AbstractRNG}\"),\n",
       " hyperparameters = (:max_depth,\n",
       "                    :min_samples_leaf,\n",
       "                    :min_samples_split,\n",
       "                    :min_purity_increase,\n",
       "                    :n_subfeatures,\n",
       "                    :post_prune,\n",
       "                    :merge_purity_threshold,\n",
       "                    :display_depth,\n",
       "                    :feature_importance,\n",
       "                    :rng),\n",
       " implemented_methods = [:clean!,\n",
       "                        :fit,\n",
       "                        :fitted_params,\n",
       "                        :predict,\n",
       "                        :reformat,\n",
       "                        :selectrows,\n",
       "                        :feature_importances],\n",
       " inverse_transform_scitype = Unknown,\n",
       " is_pure_julia = true,\n",
       " is_wrapper = false,\n",
       " iteration_parameter = nothing,\n",
       " load_path = \"MLJDecisionTreeInterface.DecisionTreeClassifier\",\n",
       " package_license = \"MIT\",\n",
       " package_url = \"https://github.com/bensadeghi/DecisionTree.jl\",\n",
       " package_uuid = \"7806a523-6efd-50cb-b5f6-3fa6f1930dbb\",\n",
       " predict_scitype = AbstractVector{Density{_s25} where _s25<:Finite},\n",
       " prediction_type = :probabilistic,\n",
       " reporting_operations = (),\n",
       " reports_feature_importances = true,\n",
       " supports_class_weights = false,\n",
       " supports_online = false,\n",
       " supports_training_losses = false,\n",
       " supports_weights = false,\n",
       " transform_scitype = Unknown,\n",
       " input_scitype =\n",
       "     Table{<:Union{AbstractVector{<:Continuous}, AbstractVector{<:Count}, AbstractVector{<:OrderedFactor}}},\n",
       " target_scitype = AbstractVector{<:Finite},\n",
       " output_scitype = Unknown)"
      ]
     },
     "metadata": {},
     "output_type": "display_data"
    }
   ],
   "source": [
    "info(tree)"
   ]
  },
  {
   "cell_type": "code",
   "execution_count": 104,
   "metadata": {},
   "outputs": [
    {
     "data": {
      "text/plain": [
       "CompositeA(\n",
       "  preprocessor = OneHotEncoder(\n",
       "        features = Symbol[], \n",
       "        drop_last = false, \n",
       "        ordered_factor = true, \n",
       "        ignore = false), \n",
       "  classifier = ProbabilisticEnsembleModel(\n",
       "        model = DecisionTreeClassifier(max_depth = -1, …), \n",
       "        atomic_weights = Float64[], \n",
       "        bagging_fraction = 0.8, \n",
       "        rng = Random._GLOBAL_RNG(), \n",
       "        n = 20, \n",
       "        acceleration = CPU1{Nothing}(nothing), \n",
       "        out_of_bag_measure = Any[]))"
      ]
     },
     "metadata": {},
     "output_type": "display_data"
    }
   ],
   "source": [
    "using MLJ\n",
    "\n",
    "one_hot_encoder = OneHotEncoder()\n",
    "tree = DecisionTreeClassifier(n_subfeatures=3)\n",
    "ensemble_model = EnsembleModel(model=tree, n=20)\n",
    "\n",
    "composite_a = CompositeA(one_hot_encoder,ensemble_model)"
   ]
  },
  {
   "cell_type": "code",
   "execution_count": 109,
   "metadata": {},
   "outputs": [
    {
     "name": "stderr",
     "output_type": "stream",
     "text": [
      "\r\u001b[33mEvaluating over 6 folds:  33%[========>                ]  ETA: 0:13:07\u001b[39m\u001b[K"
     ]
    },
    {
     "name": "stderr",
     "output_type": "stream",
     "text": [
      "\r\u001b[33mEvaluating over 6 folds:  50%[============>            ]  ETA: 0:10:11\u001b[39m\u001b[K"
     ]
    },
    {
     "name": "stderr",
     "output_type": "stream",
     "text": [
      "\r\u001b[33mEvaluating over 6 folds:  67%[================>        ]  ETA: 0:06:59\u001b[39m\u001b[K"
     ]
    },
    {
     "name": "stderr",
     "output_type": "stream",
     "text": [
      "\r\u001b[33mEvaluating over 6 folds:  83%[====================>    ]  ETA: 0:03:35\u001b[39m\u001b[K"
     ]
    },
    {
     "name": "stderr",
     "output_type": "stream",
     "text": [
      "\r\u001b[33mEvaluating over 6 folds: 100%[=========================] Time: 0:22:30\u001b[39m\u001b[K\n"
     ]
    },
    {
     "data": {
      "text/plain": [
       "PerformanceEvaluation object with these fields:\n",
       "  measure, operation, measurement, per_fold,\n",
       "  per_observation, fitted_params_per_fold,\n",
       "  report_per_fold, train_test_rows\n",
       "Extract:\n",
       "┌────────────────────────────────┬───────────┬─────────────┬─────────┬──────────\n",
       "│\u001b[22m measure                        \u001b[0m│\u001b[22m operation \u001b[0m│\u001b[22m measurement \u001b[0m│\u001b[22m 1.96*SE \u001b[0m│\u001b[22m per_fol\u001b[0m ⋯\n",
       "├────────────────────────────────┼───────────┼─────────────┼─────────┼──────────\n",
       "│ LogLoss(                       │ predict   │ 15.3        │ 4.56    │ [21.4,  ⋯\n",
       "│   tol = 2.220446049250313e-16) │           │             │         │         ⋯\n",
       "└────────────────────────────────┴───────────┴─────────────┴─────────┴──────────\n",
       "\u001b[36m                                                                1 column omitted\u001b[0m\n"
      ]
     },
     "metadata": {},
     "output_type": "display_data"
    }
   ],
   "source": [
    "mach = machine(composite_a, X, y)\n",
    "#fit!(mach, rows=train, verbosity=0)\n",
    "estimates = evaluate!(mach, measure=cross_entropy)    # Equal to fit! then predict! then calling the measure."
   ]
  },
  {
   "attachments": {},
   "cell_type": "markdown",
   "metadata": {},
   "source": [
    "### Tuning Hyperparameters"
   ]
  },
  {
   "attachments": {},
   "cell_type": "markdown",
   "metadata": {},
   "source": [
    "Let's start by tuning the `tree.n_subfeatures` parameter."
   ]
  },
  {
   "cell_type": "code",
   "execution_count": 112,
   "metadata": {},
   "outputs": [
    {
     "data": {
      "text/plain": [
       "3"
      ]
     },
     "metadata": {},
     "output_type": "display_data"
    }
   ],
   "source": [
    "mach.model.classifier.model.n_subfeatures"
   ]
  },
  {
   "cell_type": "code",
   "execution_count": null,
   "metadata": {},
   "outputs": [],
   "source": [
    "composite_a"
   ]
  },
  {
   "cell_type": "code",
   "execution_count": 116,
   "metadata": {},
   "outputs": [
    {
     "name": "stderr",
     "output_type": "stream",
     "text": [
      "┌ Info: Training machine(ProbabilisticTunedModel(model = CompositeA(preprocessor = OneHotEncoder(features = Symbol[], …), …), …), …).\n",
      "└ @ MLJBase /Users/mph/.julia/packages/MLJBase/g5E7V/src/machines.jl:492\n",
      "┌ Info: Attempting to evaluate 100 models.\n",
      "└ @ MLJTuning /Users/mph/.julia/packages/MLJTuning/ZFg3R/src/tuned_models.jl:727\n",
      "\r\u001b[33mEvaluating over 100 metamodels:   0%[>                        ]  ETA: N/A\u001b[39m\u001b[K"
     ]
    }
   ],
   "source": [
    "r_n_subfeatures = range(composite_a, :(classifier.model.n_subfeatures),lower=1, upper=6)\n",
    "tuned_composite_a = TunedModel(\n",
    "    composite_a,\n",
    "    range=r_n_subfeatures,\n",
    "    tuning=RandomSearch(rng=123),\n",
    "    measure=cross_entropy,\n",
    "    resampling=CV(nfolds=6),\n",
    "    n=100,\n",
    ")\n",
    "mach = machine(tuned_composite_a, X, y) |> fit!\n",
    "report(mach).best_model\n",
    "# estimates2 = evaluate!(mach, measure=cross_entropy)    # Equal to fit! then predict! then calling the measure."
   ]
  },
  {
   "cell_type": "code",
   "execution_count": null,
   "metadata": {},
   "outputs": [],
   "source": []
  }
 ],
 "metadata": {
  "kernelspec": {
   "display_name": "Julia 1.8.5",
   "language": "julia",
   "name": "julia-1.8"
  },
  "language_info": {
   "file_extension": ".jl",
   "mimetype": "application/julia",
   "name": "julia",
   "version": "1.8.5"
  },
  "orig_nbformat": 4
 },
 "nbformat": 4,
 "nbformat_minor": 2
}
