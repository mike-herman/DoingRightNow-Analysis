{
 "cells": [
  {
   "cell_type": "code",
   "execution_count": 1,
   "metadata": {},
   "outputs": [
    {
     "name": "stderr",
     "output_type": "stream",
     "text": [
      "\u001b[32m\u001b[1m  Activating\u001b[22m\u001b[39m project at `~/Repos/DoingRightNow-Analysis`\n"
     ]
    },
    {
     "name": "stderr",
     "output_type": "stream",
     "text": [
      "┌ Warning: The project dependencies or compat requirements have changed since the manifest was last resolved.\n",
      "│ It is recommended to `Pkg.resolve()` or consider `Pkg.update()` if necessary.\n",
      "└ @ Pkg.API /Users/julia/.julia/scratchspaces/a66863c6-20e8-4ff4-8a62-49f30b1f605e/agent-cache/default-macmini-aarch64-4.0/build/default-macmini-aarch64-4-0/julialang/julia-release-1-dot-8/usr/share/julia/stdlib/v1.8/Pkg/src/API.jl:1535\n"
     ]
    },
    {
     "ename": "Pkg.Types.PkgError",
     "evalue": "`Arrow` is a direct dependency, but does not appear in the manifest. If you intend `Arrow` to be a direct dependency, run `Pkg.resolve()` to populate the manifest. Otherwise, remove `Arrow` with `Pkg.rm(\"Arrow\")`. Finally, run `Pkg.instantiate()` again.",
     "output_type": "error",
     "traceback": [
      "`Arrow` is a direct dependency, but does not appear in the manifest. If you intend `Arrow` to be a direct dependency, run `Pkg.resolve()` to populate the manifest. Otherwise, remove `Arrow` with `Pkg.rm(\"Arrow\")`. Finally, run `Pkg.instantiate()` again.\n",
      "\n",
      "Stacktrace:\n",
      " [1] pkgerror(::String, ::Vararg{String})\n",
      "   @ Pkg.Types /Applications/Julia-1.8.app/Contents/Resources/julia/share/julia/stdlib/v1.8/Pkg/src/Types.jl:67\n",
      " [2] instantiate(ctx::Pkg.Types.Context; manifest::Nothing, update_registry::Bool, verbose::Bool, platform::Base.BinaryPlatforms.Platform, allow_build::Bool, allow_autoprecomp::Bool, kwargs::Base.Pairs{Symbol, Union{}, Tuple{}, NamedTuple{(), Tuple{}}})\n",
      "   @ Pkg.API /Applications/Julia-1.8.app/Contents/Resources/julia/share/julia/stdlib/v1.8/Pkg/src/API.jl:1542\n",
      " [3] instantiate\n",
      "   @ /Applications/Julia-1.8.app/Contents/Resources/julia/share/julia/stdlib/v1.8/Pkg/src/API.jl:1502 [inlined]\n",
      " [4] #instantiate#284\n",
      "   @ /Applications/Julia-1.8.app/Contents/Resources/julia/share/julia/stdlib/v1.8/Pkg/src/API.jl:1501 [inlined]\n",
      " [5] instantiate()\n",
      "   @ Pkg.API /Applications/Julia-1.8.app/Contents/Resources/julia/share/julia/stdlib/v1.8/Pkg/src/API.jl:1501\n",
      " [6] top-level scope\n",
      "   @ ~/Repos/DoingRightNow-Analysis/atus_ml_model.ipynb:3"
     ]
    }
   ],
   "source": [
    "using Pkg;\n",
    "Pkg.activate(\".\");\n",
    "Pkg.instantiate();"
   ]
  },
  {
   "cell_type": "code",
   "execution_count": 109,
   "metadata": {},
   "outputs": [],
   "source": [
    "using DataFrames, Arrow, CategoricalArrays, ScientificTypes, MLJ"
   ]
  },
  {
   "cell_type": "code",
   "execution_count": 103,
   "metadata": {},
   "outputs": [
    {
     "data": {
      "text/html": [
       "<div><div style = \"float: left;\"><span>16×7 DataFrame</span></div><div style = \"clear: both;\"></div></div><div class = \"data-frame\" style = \"overflow-x: scroll;\"><table class = \"data-frame\" style = \"margin-bottom: 6px;\"><thead><tr class = \"header\"><th class = \"rowNumber\" style = \"font-weight: bold; text-align: right;\">Row</th><th style = \"text-align: left;\">variable</th><th style = \"text-align: left;\">mean</th><th style = \"text-align: left;\">min</th><th style = \"text-align: left;\">median</th><th style = \"text-align: left;\">max</th><th style = \"text-align: left;\">nmissing</th><th style = \"text-align: left;\">eltype</th></tr><tr class = \"subheader headerLastRow\"><th class = \"rowNumber\" style = \"font-weight: bold; text-align: right;\"></th><th title = \"Symbol\" style = \"text-align: left;\">Symbol</th><th title = \"Union{Nothing, Float64}\" style = \"text-align: left;\">Union…</th><th title = \"Any\" style = \"text-align: left;\">Any</th><th title = \"Any\" style = \"text-align: left;\">Any</th><th title = \"Any\" style = \"text-align: left;\">Any</th><th title = \"Int64\" style = \"text-align: left;\">Int64</th><th title = \"Type\" style = \"text-align: left;\">Type</th></tr></thead><tbody><tr><td class = \"rowNumber\" style = \"font-weight: bold; text-align: right;\">1</td><td style = \"text-align: left;\">TUCASEID</td><td style = \"text-align: left;\">2.02106e13</td><td style = \"text-align: left;\">20210101210037</td><td style = \"text-align: left;\">2.02106e13</td><td style = \"text-align: left;\">20211212212591</td><td style = \"text-align: right;\">0</td><td style = \"text-align: left;\">Int64</td></tr><tr><td class = \"rowNumber\" style = \"font-weight: bold; text-align: right;\">2</td><td style = \"text-align: left;\">TUACTIVITY_N</td><td style = \"text-align: left;\">10.4928</td><td style = \"text-align: left;\">1</td><td style = \"text-align: left;\">9.0</td><td style = \"text-align: left;\">67</td><td style = \"text-align: right;\">0</td><td style = \"text-align: left;\">Int64</td></tr><tr><td class = \"rowNumber\" style = \"font-weight: bold; text-align: right;\">3</td><td style = \"text-align: left;\">TUSTARTTIM</td><td style = \"font-style: italic; text-align: left;\"></td><td style = \"text-align: left;\">00:00:00</td><td style = \"text-align: left;\">13:40:00</td><td style = \"text-align: left;\">23:59:00</td><td style = \"text-align: right;\">0</td><td style = \"text-align: left;\">Time</td></tr><tr><td class = \"rowNumber\" style = \"font-weight: bold; text-align: right;\">4</td><td style = \"text-align: left;\">TUSTOPTIME</td><td style = \"font-style: italic; text-align: left;\"></td><td style = \"text-align: left;\">00:00:00</td><td style = \"text-align: left;\">11:30:00</td><td style = \"text-align: left;\">23:59:00</td><td style = \"text-align: right;\">0</td><td style = \"text-align: left;\">Time</td></tr><tr><td class = \"rowNumber\" style = \"font-weight: bold; text-align: right;\">5</td><td style = \"text-align: left;\">start_time_int</td><td style = \"text-align: left;\">611.477</td><td style = \"text-align: left;\">0</td><td style = \"text-align: left;\">630.0</td><td style = \"text-align: left;\">1435</td><td style = \"text-align: right;\">0</td><td style = \"text-align: left;\">Int64</td></tr><tr><td class = \"rowNumber\" style = \"font-weight: bold; text-align: right;\">6</td><td style = \"text-align: left;\">stop_time_int</td><td style = \"text-align: left;\">828.101</td><td style = \"text-align: left;\">1</td><td style = \"text-align: left;\">810.0</td><td style = \"text-align: left;\">1440</td><td style = \"text-align: right;\">0</td><td style = \"text-align: left;\">Int64</td></tr><tr><td class = \"rowNumber\" style = \"font-weight: bold; text-align: right;\">7</td><td style = \"text-align: left;\">TRTIER2</td><td style = \"text-align: left;\">603.055</td><td style = \"text-align: left;\">101</td><td style = \"text-align: left;\">301.0</td><td style = \"text-align: left;\">5001</td><td style = \"text-align: right;\">0</td><td style = \"text-align: left;\">Int64</td></tr><tr><td class = \"rowNumber\" style = \"font-weight: bold; text-align: right;\">8</td><td style = \"text-align: left;\">snap_time_int</td><td style = \"text-align: left;\">717.5</td><td style = \"text-align: left;\">0</td><td style = \"text-align: left;\">717.5</td><td style = \"text-align: left;\">1435</td><td style = \"text-align: right;\">0</td><td style = \"text-align: left;\">Int64</td></tr><tr><td class = \"rowNumber\" style = \"font-weight: bold; text-align: right;\">9</td><td style = \"text-align: left;\">TULINENO</td><td style = \"text-align: left;\">1.0</td><td style = \"text-align: left;\">1</td><td style = \"text-align: left;\">1.0</td><td style = \"text-align: left;\">1</td><td style = \"text-align: right;\">0</td><td style = \"text-align: left;\">Union{Missing, Int64}</td></tr><tr><td class = \"rowNumber\" style = \"font-weight: bold; text-align: right;\">10</td><td style = \"text-align: left;\">GESTFIPS_label</td><td style = \"font-style: italic; text-align: left;\"></td><td style = \"text-align: left;\">AK</td><td style = \"font-style: italic; text-align: left;\"></td><td style = \"text-align: left;\">WY</td><td style = \"text-align: right;\">0</td><td style = \"text-align: left;\">Union{Missing, String}</td></tr><tr><td class = \"rowNumber\" style = \"font-weight: bold; text-align: right;\">11</td><td style = \"text-align: left;\">HEFAMINC_label</td><td style = \"font-style: italic; text-align: left;\"></td><td style = \"text-align: left;\">10,000 to 12,499</td><td style = \"font-style: italic; text-align: left;\"></td><td style = \"text-align: left;\">Less than 5,000</td><td style = \"text-align: right;\">0</td><td style = \"text-align: left;\">Union{Missing, String}</td></tr><tr><td class = \"rowNumber\" style = \"font-weight: bold; text-align: right;\">12</td><td style = \"text-align: left;\">PEMARITL_label</td><td style = \"font-style: italic; text-align: left;\"></td><td style = \"text-align: left;\">Married</td><td style = \"font-style: italic; text-align: left;\"></td><td style = \"text-align: left;\">Not Married</td><td style = \"text-align: right;\">0</td><td style = \"text-align: left;\">Union{Missing, String}</td></tr><tr><td class = \"rowNumber\" style = \"font-weight: bold; text-align: right;\">13</td><td style = \"text-align: left;\">HETENURE_label</td><td style = \"font-style: italic; text-align: left;\"></td><td style = \"text-align: left;\">Non-pay</td><td style = \"font-style: italic; text-align: left;\"></td><td style = \"text-align: left;\">Rent</td><td style = \"text-align: right;\">0</td><td style = \"text-align: left;\">String</td></tr><tr><td class = \"rowNumber\" style = \"font-weight: bold; text-align: right;\">14</td><td style = \"text-align: left;\">PRTAGE</td><td style = \"text-align: left;\">51.1963</td><td style = \"text-align: left;\">15</td><td style = \"text-align: left;\">51.0</td><td style = \"text-align: left;\">85</td><td style = \"text-align: right;\">0</td><td style = \"text-align: left;\">Union{Missing, Int64}</td></tr><tr><td class = \"rowNumber\" style = \"font-weight: bold; text-align: right;\">15</td><td style = \"text-align: left;\">TUDIARYDAY</td><td style = \"text-align: left;\">3.90569</td><td style = \"text-align: left;\">1</td><td style = \"text-align: left;\">4.0</td><td style = \"text-align: left;\">7</td><td style = \"text-align: right;\">0</td><td style = \"text-align: left;\">Union{Missing, Int64}</td></tr><tr><td class = \"rowNumber\" style = \"font-weight: bold; text-align: right;\">16</td><td style = \"text-align: left;\">TUDIARYDAY_label</td><td style = \"font-style: italic; text-align: left;\"></td><td style = \"text-align: left;\">Friday</td><td style = \"font-style: italic; text-align: left;\"></td><td style = \"text-align: left;\">Wednesday</td><td style = \"text-align: right;\">0</td><td style = \"text-align: left;\">Union{Missing, String}</td></tr></tbody></table></div>"
      ],
      "text/latex": [
       "\\begin{tabular}{r|ccccccc}\n",
       "\t& variable & mean & min & median & max & nmissing & \\\\\n",
       "\t\\hline\n",
       "\t& Symbol & Union… & Any & Any & Any & Int64 & \\\\\n",
       "\t\\hline\n",
       "\t1 & TUCASEID & 2.02106e13 & 20210101210037 & 2.02106e13 & 20211212212591 & 0 & $\\dots$ \\\\\n",
       "\t2 & TUACTIVITY\\_N & 10.4928 & 1 & 9.0 & 67 & 0 & $\\dots$ \\\\\n",
       "\t3 & TUSTARTTIM &  & 00:00:00 & 13:40:00 & 23:59:00 & 0 & $\\dots$ \\\\\n",
       "\t4 & TUSTOPTIME &  & 00:00:00 & 11:30:00 & 23:59:00 & 0 & $\\dots$ \\\\\n",
       "\t5 & start\\_time\\_int & 611.477 & 0 & 630.0 & 1435 & 0 & $\\dots$ \\\\\n",
       "\t6 & stop\\_time\\_int & 828.101 & 1 & 810.0 & 1440 & 0 & $\\dots$ \\\\\n",
       "\t7 & TRTIER2 & 603.055 & 101 & 301.0 & 5001 & 0 & $\\dots$ \\\\\n",
       "\t8 & snap\\_time\\_int & 717.5 & 0 & 717.5 & 1435 & 0 & $\\dots$ \\\\\n",
       "\t9 & TULINENO & 1.0 & 1 & 1.0 & 1 & 0 & $\\dots$ \\\\\n",
       "\t10 & GESTFIPS\\_label &  & AK &  & WY & 0 & $\\dots$ \\\\\n",
       "\t11 & HEFAMINC\\_label &  & 10,000 to 12,499 &  & Less than 5,000 & 0 & $\\dots$ \\\\\n",
       "\t12 & PEMARITL\\_label &  & Married &  & Not Married & 0 & $\\dots$ \\\\\n",
       "\t13 & HETENURE\\_label &  & Non-pay &  & Rent & 0 & $\\dots$ \\\\\n",
       "\t14 & PRTAGE & 51.1963 & 15 & 51.0 & 85 & 0 & $\\dots$ \\\\\n",
       "\t15 & TUDIARYDAY & 3.90569 & 1 & 4.0 & 7 & 0 & $\\dots$ \\\\\n",
       "\t16 & TUDIARYDAY\\_label &  & Friday &  & Wednesday & 0 & $\\dots$ \\\\\n",
       "\\end{tabular}\n"
      ],
      "text/plain": [
       "\u001b[1m16×7 DataFrame\u001b[0m\n",
       "\u001b[1m Row \u001b[0m│\u001b[1m variable         \u001b[0m\u001b[1m mean       \u001b[0m\u001b[1m min              \u001b[0m\u001b[1m median     \u001b[0m\u001b[1m max        \u001b[0m ⋯\n",
       "     │\u001b[90m Symbol           \u001b[0m\u001b[90m Union…     \u001b[0m\u001b[90m Any              \u001b[0m\u001b[90m Any        \u001b[0m\u001b[90m Any        \u001b[0m ⋯\n",
       "─────┼──────────────────────────────────────────────────────────────────────────\n",
       "   1 │ TUCASEID          2.02106e13  20210101210037    2.02106e13  20211212212 ⋯\n",
       "   2 │ TUACTIVITY_N      10.4928     1                 9.0         67\n",
       "   3 │ TUSTARTTIM       \u001b[90m            \u001b[0m 00:00:00          13:40:00    23:59:00\n",
       "   4 │ TUSTOPTIME       \u001b[90m            \u001b[0m 00:00:00          11:30:00    23:59:00\n",
       "   5 │ start_time_int    611.477     0                 630.0       1435        ⋯\n",
       "   6 │ stop_time_int     828.101     1                 810.0       1440\n",
       "   7 │ TRTIER2           603.055     101               301.0       5001\n",
       "   8 │ snap_time_int     717.5       0                 717.5       1435\n",
       "   9 │ TULINENO          1.0         1                 1.0         1           ⋯\n",
       "  10 │ GESTFIPS_label   \u001b[90m            \u001b[0m AK               \u001b[90m            \u001b[0m WY\n",
       "  11 │ HEFAMINC_label   \u001b[90m            \u001b[0m 10,000 to 12,499 \u001b[90m            \u001b[0m Less than 5\n",
       "  12 │ PEMARITL_label   \u001b[90m            \u001b[0m Married          \u001b[90m            \u001b[0m Not Married\n",
       "  13 │ HETENURE_label   \u001b[90m            \u001b[0m Non-pay          \u001b[90m            \u001b[0m Rent        ⋯\n",
       "  14 │ PRTAGE            51.1963     15                51.0        85\n",
       "  15 │ TUDIARYDAY        3.90569     1                 4.0         7\n",
       "  16 │ TUDIARYDAY_label \u001b[90m            \u001b[0m Friday           \u001b[90m            \u001b[0m Wednesday\n",
       "\u001b[36m                                                               3 columns omitted\u001b[0m"
      ]
     },
     "metadata": {},
     "output_type": "display_data"
    }
   ],
   "source": [
    "DATA_FILE_PATH = \"./data/model_data.arrow\";\n",
    "df = DataFrame(Arrow.Table(DATA_FILE_PATH));\n",
    "df = copy(df)"
   ]
  },
  {
   "cell_type": "code",
   "execution_count": 104,
   "metadata": {},
   "outputs": [],
   "source": [
    "\n",
    "function clean_data!(df)\n",
    "    \n",
    "    # Fix machine types.\n",
    "    HEFAMINC_ordered_set = [\n",
    "        \"Less than 5,000\",\n",
    "        \"5,000 to 7,499\",\n",
    "        \"7,500 to 9,999\",\n",
    "        \"10,000 to 12,499\",\n",
    "        \"12,500 to 14,999\",\n",
    "        \"15,000 to 19,999\",\n",
    "        \"20,000 to 24,999\",\n",
    "        \"25,000 to 29,999\",\n",
    "        \"30,000 to 34,999\",\n",
    "        \"35,000 to 39,999\",\n",
    "        \"40,000 to 49,999\",\n",
    "        \"50,000 to 59,999\",\n",
    "        \"60,000 to 74,999\",\n",
    "        \"75,000 to 99,999\",\n",
    "        \"100,000 to 149,999\",\n",
    "        \"150,000 and over\"\n",
    "    ]\n",
    "\n",
    "    df.TRTIER2 = categorical(df.TRTIER2)\n",
    "    df.GESTFIPS_label = categorical(df.GESTFIPS_label)\n",
    "    df.HEFAMINC_label = categorical(df.HEFAMINC_label; levels=HEFAMINC_ordered_set, ordered=true)\n",
    "    df.PEMARITL_label = categorical(df.PEMARITL_label)\n",
    "    df.HETENURE_label = categorical(df.HETENURE_label)\n",
    "    df.TUDIARYDAY_label = categorical(df.TUDIARYDAY_label)\n",
    "\n",
    "    # drop columns and disallow missing.\n",
    "    drop_cols = [\n",
    "        :TUCASEID,:TUACTIVITY_N,:TUSTARTTIM,:TUSTOPTIME,\n",
    "        :start_time_int,:stop_time_int,:TULINENO, :TUDIARYDAY\n",
    "        ]\n",
    "    select!(df, Not(drop_cols))\n",
    "    disallowmissing!(df)\n",
    "\n",
    "    # Define scientific types.\n",
    "    coerce!(df, :snap_time_int => Continuous, :PRTAGE => Continuous)\n",
    "end\n",
    "\n",
    "clean_data!(df);"
   ]
  },
  {
   "cell_type": "code",
   "execution_count": 144,
   "metadata": {},
   "outputs": [],
   "source": [
    "y, X = unpack(df, ==(:TRTIER2));"
   ]
  },
  {
   "attachments": {},
   "cell_type": "markdown",
   "metadata": {},
   "source": [
    "## Find the right model to use"
   ]
  },
  {
   "attachments": {},
   "cell_type": "markdown",
   "metadata": {},
   "source": [
    "We'll take a look at what type of models are available to MLJ to predict on our target."
   ]
  },
  {
   "cell_type": "code",
   "execution_count": 145,
   "metadata": {},
   "outputs": [
    {
     "name": "stdout",
     "output_type": "stream",
     "text": [
      "CatBoostClassifier            (CatBoost)\n",
      "ConstantClassifier            (MLJModels)\n",
      "DecisionTreeClassifier        (BetaML)\n",
      "RandomForestClassifier        (BetaML)\n"
     ]
    }
   ],
   "source": [
    "for m in models(matching(X,y))\n",
    "    if m.prediction_type == :probabilistic\n",
    "        println(rpad(m.name, 30), \"($(m.package_name))\")\n",
    "    end\n",
    "end"
   ]
  },
  {
   "attachments": {},
   "cell_type": "markdown",
   "metadata": {},
   "source": [
    "The only models showing are tree-based models. We're prodicting a multi-class category. And this is how it is encoded in the data. Tree-based models will handle this explicitly.\n",
    "\n",
    "But we _should_ be able to use something like a multivariate logistic regression, shouldn't we? Likely, the reason is typing. A regression isn't going to work on non-encoded predictors. According to the documentation, it _should_ properly interpret the multivariate target though."
   ]
  },
  {
   "cell_type": "code",
   "execution_count": 167,
   "metadata": {},
   "outputs": [
    {
     "name": "stderr",
     "output_type": "stream",
     "text": [
      "┌ Info: Training machine(OneHotEncoder(features = Symbol[], …), …).\n",
      "└ @ MLJBase /Users/mph/.julia/packages/MLJBase/g5E7V/src/machines.jl:492\n",
      "┌ Info: Spawning 50 sub-features to one-hot encode feature :GESTFIPS_label.\n",
      "└ @ MLJModels /Users/mph/.julia/packages/MLJModels/UM8fF/src/builtins/Transformers.jl:878\n",
      "┌ Info: Spawning 15 sub-features to one-hot encode feature :HEFAMINC_label.\n",
      "└ @ MLJModels /Users/mph/.julia/packages/MLJModels/UM8fF/src/builtins/Transformers.jl:878\n",
      "┌ Info: Spawning 1 sub-features to one-hot encode feature :PEMARITL_label.\n",
      "└ @ MLJModels /Users/mph/.julia/packages/MLJModels/UM8fF/src/builtins/Transformers.jl:878\n",
      "┌ Info: Spawning 2 sub-features to one-hot encode feature :HETENURE_label.\n",
      "└ @ MLJModels /Users/mph/.julia/packages/MLJModels/UM8fF/src/builtins/Transformers.jl:878\n",
      "┌ Info: Spawning 6 sub-features to one-hot encode feature :TUDIARYDAY_label.\n",
      "└ @ MLJModels /Users/mph/.julia/packages/MLJModels/UM8fF/src/builtins/Transformers.jl:878\n"
     ]
    },
    {
     "name": "stdout",
     "output_type": "stream",
     "text": [
      "AdaBoostClassifier            (MLJScikitLearnInterface)\n",
      "AdaBoostStumpClassifier       (DecisionTree)\n",
      "BaggingClassifier             (MLJScikitLearnInterface)\n",
      "BayesianLDA                   (MLJScikitLearnInterface)\n",
      "BayesianLDA                   (MultivariateStats)\n",
      "BayesianQDA                   (MLJScikitLearnInterface)\n",
      "BayesianSubspaceLDA           (MultivariateStats)\n",
      "CatBoostClassifier            (CatBoost)\n",
      "ConstantClassifier            (MLJModels)\n",
      "DecisionTreeClassifier        (BetaML)\n",
      "DecisionTreeClassifier        (DecisionTree)\n",
      "DummyClassifier               (MLJScikitLearnInterface)\n",
      "EvoTreeClassifier             (EvoTrees)\n",
      "ExtraTreesClassifier          (MLJScikitLearnInterface)\n",
      "GaussianNBClassifier          (MLJScikitLearnInterface)\n",
      "GaussianNBClassifier          (NaiveBayes)\n",
      "GaussianProcessClassifier     (MLJScikitLearnInterface)\n",
      "GradientBoostingClassifier    (MLJScikitLearnInterface)\n",
      "KNNClassifier                 (NearestNeighborModels)\n",
      "KNeighborsClassifier          (MLJScikitLearnInterface)\n",
      "KernelPerceptron              (BetaML)\n",
      "LDA                           (MultivariateStats)\n",
      "LGBMClassifier                (LightGBM)\n",
      "LinearPerceptron              (BetaML)\n",
      "LogisticCVClassifier          (MLJScikitLearnInterface)\n",
      "LogisticClassifier            (MLJLinearModels)\n",
      "LogisticClassifier            (MLJScikitLearnInterface)\n",
      "MultinomialClassifier         (MLJLinearModels)\n",
      "NeuralNetworkClassifier       (BetaML)\n",
      "NeuralNetworkClassifier       (MLJFlux)\n",
      "Pegasos                       (BetaML)\n",
      "ProbabilisticNuSVC            (LIBSVM)\n",
      "ProbabilisticSGDClassifier    (MLJScikitLearnInterface)\n",
      "ProbabilisticSVC              (LIBSVM)\n",
      "RandomForestClassifier        (BetaML)\n",
      "RandomForestClassifier        (DecisionTree)\n",
      "RandomForestClassifier        (MLJScikitLearnInterface)\n",
      "SubspaceLDA                   (MultivariateStats)\n",
      "XGBoostClassifier             (XGBoost)\n"
     ]
    }
   ],
   "source": [
    "# One Hot Encode X into a new object called X2.\n",
    "ohe = OneHotEncoder(drop_last=true)\n",
    "mach = fit!(machine(ohe, X))\n",
    "X2 = MLJ.transform(mach, X)\n",
    "\n",
    "# Search for the available models.\n",
    "for m in models(matching(X2,y))\n",
    "    if m.prediction_type == :probabilistic\n",
    "        println(rpad(m.name, 30), \"($(m.package_name))\")\n",
    "    end\n",
    "end"
   ]
  },
  {
   "cell_type": "code",
   "execution_count": 168,
   "metadata": {},
   "outputs": [
    {
     "name": "stdout",
     "output_type": "stream",
     "text": [
      "import MLJLinearModels ✔\n"
     ]
    },
    {
     "name": "stderr",
     "output_type": "stream",
     "text": [
      "┌ Info: For silent loading, specify `verbosity=0`. \n",
      "└ @ Main /Users/mph/.julia/packages/MLJModels/UM8fF/src/loading.jl:159\n"
     ]
    },
    {
     "data": {
      "text/plain": [
       "untrained Machine; caches model-specific representations of data\n",
       "  model: LogisticClassifier(lambda = 2.220446049250313e-16, …)\n",
       "  args: \n",
       "    1:\tSource @792 ⏎ Table{AbstractVector{Continuous}}\n",
       "    2:\tSource @994 ⏎ AbstractVector{Multiclass{99}}\n"
      ]
     },
     "metadata": {},
     "output_type": "display_data"
    }
   ],
   "source": [
    "LogisticClassifier = @load LogisticClassifier pkg=MLJLinearModels\n",
    "mach = machine(LogisticClassifier(), X2, y)"
   ]
  },
  {
   "cell_type": "code",
   "execution_count": 169,
   "metadata": {},
   "outputs": [
    {
     "name": "stderr",
     "output_type": "stream",
     "text": [
      "┌ Info: Training machine(LogisticClassifier(lambda = 2.220446049250313e-16, …), …).\n",
      "└ @ MLJBase /Users/mph/.julia/packages/MLJBase/g5E7V/src/machines.jl:492\n",
      "┌ Info: Solver: MLJLinearModels.LBFGS{Optim.Options{Float64, Nothing}, NamedTuple{(), Tuple{}}}\n",
      "│   optim_options: Optim.Options{Float64, Nothing}\n",
      "│   lbfgs_options: NamedTuple{(), Tuple{}} NamedTuple()\n",
      "└ @ MLJLinearModels /Users/mph/.julia/packages/MLJLinearModels/9ZsIv/src/mlj/interface.jl:72\n"
     ]
    },
    {
     "name": "stderr",
     "output_type": "stream",
     "text": [
      "┌ Error: Problem fitting the machine machine(LogisticClassifier(lambda = 2.220446049250313e-16, …), …). \n",
      "└ @ MLJBase /Users/mph/.julia/packages/MLJBase/g5E7V/src/machines.jl:682\n",
      "┌ Info: Running type checks... \n",
      "└ @ MLJBase /Users/mph/.julia/packages/MLJBase/g5E7V/src/machines.jl:688\n",
      "┌ Info: Type checks okay. \n",
      "└ @ MLJBase /Users/mph/.julia/packages/MLJBase/g5E7V/src/machines.jl:692\n"
     ]
    }
   ],
   "source": [
    "fit!(mach)"
   ]
  },
  {
   "cell_type": "code",
   "execution_count": null,
   "metadata": {},
   "outputs": [],
   "source": []
  }
 ],
 "metadata": {
  "kernelspec": {
   "display_name": "Julia 1.8.5",
   "language": "julia",
   "name": "julia-1.8"
  },
  "language_info": {
   "file_extension": ".jl",
   "mimetype": "application/julia",
   "name": "julia",
   "version": "1.8.5"
  },
  "orig_nbformat": 4
 },
 "nbformat": 4,
 "nbformat_minor": 2
}
